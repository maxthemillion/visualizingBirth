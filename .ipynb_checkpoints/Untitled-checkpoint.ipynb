{
 "cells": [
  {
   "cell_type": "code",
   "execution_count": 4,
   "metadata": {},
   "outputs": [],
   "source": [
    "import pandas as pd\n",
    "import altair as alt\n",
    "import os"
   ]
  },
  {
   "cell_type": "code",
   "execution_count": 5,
   "metadata": {},
   "outputs": [],
   "source": [
    "DATA = os.path.join('./data')"
   ]
  },
  {
   "cell_type": "code",
   "execution_count": 6,
   "metadata": {},
   "outputs": [],
   "source": [
    "df = pd.read_excel(os.path.join(DATA, 'alter_frau.xlsx'))"
   ]
  },
  {
   "cell_type": "code",
   "execution_count": 8,
   "metadata": {},
   "outputs": [
    {
     "data": {
      "text/plain": [
       "jahr       int64\n",
       "alter     object\n",
       "kind_1     int64\n",
       "kind_2     int64\n",
       "kind_3     int64\n",
       "kind_4     int64\n",
       "dtype: object"
      ]
     },
     "execution_count": 8,
     "metadata": {},
     "output_type": "execute_result"
    }
   ],
   "source": [
    "df.dtypes"
   ]
  },
  {
   "cell_type": "code",
   "execution_count": 34,
   "metadata": {},
   "outputs": [],
   "source": [
    "A = alt.Chart(df, width=500).mark_line().encode(\n",
    "    alt.X('alter:O'),\n",
    "    alt.Y('kind_1:Q',\n",
    "          scale=alt.Scale(domain=[0,35000])\n",
    "         ),\n",
    "    color='jahr:O'\n",
    ")"
   ]
  },
  {
   "cell_type": "code",
   "execution_count": 25,
   "metadata": {},
   "outputs": [],
   "source": [
    "B = alt.Chart(df, width=500).mark_line().encode(\n",
    "    alt.X('alter:O'),\n",
    "    alt.Y(\n",
    "        'kind_2:Q',\n",
    "        scale=alt.Scale(domain=[0,35000])\n",
    "    ),\n",
    "    color='jahr:O',\n",
    ")"
   ]
  },
  {
   "cell_type": "code",
   "execution_count": 26,
   "metadata": {},
   "outputs": [],
   "source": [
    "C = alt.Chart(df, width=500).mark_line().encode(\n",
    "    alt.X('alter:O'),\n",
    "    alt.Y(\n",
    "        'kind_3:Q',\n",
    "        scale=alt.Scale(domain=[0,35000])\n",
    "    ),\n",
    "    color='jahr:O',\n",
    ")"
   ]
  },
  {
   "cell_type": "code",
   "execution_count": 35,
   "metadata": {},
   "outputs": [
    {
     "data": {
      "application/vnd.vegalite.v3+json": {
       "$schema": "https://vega.github.io/schema/vega-lite/v3.4.0.json",
       "config": {
        "mark": {
         "tooltip": null
        },
        "view": {
         "height": 300,
         "width": 400
        }
       },
       "data": {
        "name": "data-fd01e3f64c235fb51fe3d2c9eefa9ff0"
       },
       "datasets": {
        "data-fd01e3f64c235fb51fe3d2c9eefa9ff0": [
         {
          "alter": "unter 15 Jahre",
          "jahr": 2009,
          "kind_1": 53,
          "kind_2": 0,
          "kind_3": 0,
          "kind_4": 0
         },
         {
          "alter": "15-Jährige",
          "jahr": 2009,
          "kind_1": 240,
          "kind_2": 4,
          "kind_3": 0,
          "kind_4": 0
         },
         {
          "alter": "16-Jährige",
          "jahr": 2009,
          "kind_1": 898,
          "kind_2": 19,
          "kind_3": 0,
          "kind_4": 0
         },
         {
          "alter": "17-Jährige",
          "jahr": 2009,
          "kind_1": 2059,
          "kind_2": 81,
          "kind_3": 1,
          "kind_4": 1
         },
         {
          "alter": "18-Jährige",
          "jahr": 2009,
          "kind_1": 3695,
          "kind_2": 289,
          "kind_3": 23,
          "kind_4": 2
         },
         {
          "alter": "19-Jährige",
          "jahr": 2009,
          "kind_1": 6840,
          "kind_2": 799,
          "kind_3": 62,
          "kind_4": 3
         },
         {
          "alter": "20-Jährige",
          "jahr": 2009,
          "kind_1": 9190,
          "kind_2": 1610,
          "kind_3": 165,
          "kind_4": 11
         },
         {
          "alter": "21-Jährige",
          "jahr": 2009,
          "kind_1": 11346,
          "kind_2": 2888,
          "kind_3": 401,
          "kind_4": 55
         },
         {
          "alter": "22-Jährige",
          "jahr": 2009,
          "kind_1": 12609,
          "kind_2": 4148,
          "kind_3": 729,
          "kind_4": 124
         },
         {
          "alter": "23-Jährige",
          "jahr": 2009,
          "kind_1": 13957,
          "kind_2": 5410,
          "kind_3": 1179,
          "kind_4": 263
         },
         {
          "alter": "24-Jährige",
          "jahr": 2009,
          "kind_1": 15309,
          "kind_2": 6678,
          "kind_3": 1550,
          "kind_4": 449
         },
         {
          "alter": "25-Jährige",
          "jahr": 2009,
          "kind_1": 17690,
          "kind_2": 8197,
          "kind_3": 2050,
          "kind_4": 627
         },
         {
          "alter": "26-Jährige",
          "jahr": 2009,
          "kind_1": 19924,
          "kind_2": 9877,
          "kind_3": 2543,
          "kind_4": 886
         },
         {
          "alter": "27-Jährige",
          "jahr": 2009,
          "kind_1": 21944,
          "kind_2": 12149,
          "kind_3": 3276,
          "kind_4": 1137
         },
         {
          "alter": "28-Jährige",
          "jahr": 2009,
          "kind_1": 23173,
          "kind_2": 13898,
          "kind_3": 3726,
          "kind_4": 1461
         },
         {
          "alter": "29-Jährige",
          "jahr": 2009,
          "kind_1": 24130,
          "kind_2": 15508,
          "kind_3": 4382,
          "kind_4": 1747
         },
         {
          "alter": "30-Jährige",
          "jahr": 2009,
          "kind_1": 23127,
          "kind_2": 16163,
          "kind_3": 4665,
          "kind_4": 1900
         },
         {
          "alter": "31-Jährige",
          "jahr": 2009,
          "kind_1": 21996,
          "kind_2": 16760,
          "kind_3": 5045,
          "kind_4": 2072
         },
         {
          "alter": "32-Jährige",
          "jahr": 2009,
          "kind_1": 19745,
          "kind_2": 17073,
          "kind_3": 5206,
          "kind_4": 2225
         },
         {
          "alter": "33-Jährige",
          "jahr": 2009,
          "kind_1": 17186,
          "kind_2": 16342,
          "kind_3": 5397,
          "kind_4": 2254
         },
         {
          "alter": "34-Jährige",
          "jahr": 2009,
          "kind_1": 14123,
          "kind_2": 15079,
          "kind_3": 5257,
          "kind_4": 2456
         },
         {
          "alter": "35-Jährige",
          "jahr": 2009,
          "kind_1": 11945,
          "kind_2": 13342,
          "kind_3": 5270,
          "kind_4": 2348
         },
         {
          "alter": "36-Jährige",
          "jahr": 2009,
          "kind_1": 9833,
          "kind_2": 11403,
          "kind_3": 5044,
          "kind_4": 2380
         },
         {
          "alter": "37-Jährige",
          "jahr": 2009,
          "kind_1": 8235,
          "kind_2": 9957,
          "kind_3": 4515,
          "kind_4": 2316
         },
         {
          "alter": "38-Jährige",
          "jahr": 2009,
          "kind_1": 6770,
          "kind_2": 8459,
          "kind_3": 4004,
          "kind_4": 2252
         },
         {
          "alter": "39-Jährige",
          "jahr": 2009,
          "kind_1": 5113,
          "kind_2": 6410,
          "kind_3": 3408,
          "kind_4": 1941
         },
         {
          "alter": "40-Jährige",
          "jahr": 2009,
          "kind_1": 4008,
          "kind_2": 4740,
          "kind_3": 2573,
          "kind_4": 1735
         },
         {
          "alter": "41-Jährige",
          "jahr": 2009,
          "kind_1": 2791,
          "kind_2": 3158,
          "kind_3": 1827,
          "kind_4": 1381
         },
         {
          "alter": "42-Jährige",
          "jahr": 2009,
          "kind_1": 1599,
          "kind_2": 1906,
          "kind_3": 1166,
          "kind_4": 947
         },
         {
          "alter": "43-Jährige",
          "jahr": 2009,
          "kind_1": 935,
          "kind_2": 1048,
          "kind_3": 670,
          "kind_4": 674
         },
         {
          "alter": "44-Jährige",
          "jahr": 2009,
          "kind_1": 485,
          "kind_2": 462,
          "kind_3": 378,
          "kind_4": 471
         },
         {
          "alter": "45-Jährige",
          "jahr": 2009,
          "kind_1": 266,
          "kind_2": 222,
          "kind_3": 186,
          "kind_4": 233
         },
         {
          "alter": "46-Jährige",
          "jahr": 2009,
          "kind_1": 113,
          "kind_2": 101,
          "kind_3": 77,
          "kind_4": 102
         },
         {
          "alter": "47-Jährige",
          "jahr": 2009,
          "kind_1": 58,
          "kind_2": 37,
          "kind_3": 29,
          "kind_4": 44
         },
         {
          "alter": "48-Jährige",
          "jahr": 2009,
          "kind_1": 34,
          "kind_2": 25,
          "kind_3": 22,
          "kind_4": 19
         },
         {
          "alter": "49-Jährige",
          "jahr": 2009,
          "kind_1": 16,
          "kind_2": 13,
          "kind_3": 12,
          "kind_4": 10
         },
         {
          "alter": "50 Jahre und mehr",
          "jahr": 2009,
          "kind_1": 32,
          "kind_2": 15,
          "kind_3": 11,
          "kind_4": 14
         },
         {
          "alter": "unter 15 Jahre",
          "jahr": 2010,
          "kind_1": 55,
          "kind_2": 0,
          "kind_3": 0,
          "kind_4": 0
         },
         {
          "alter": "15-Jährige",
          "jahr": 2010,
          "kind_1": 229,
          "kind_2": 1,
          "kind_3": 0,
          "kind_4": 0
         },
         {
          "alter": "16-Jährige",
          "jahr": 2010,
          "kind_1": 850,
          "kind_2": 20,
          "kind_3": 0,
          "kind_4": 0
         },
         {
          "alter": "17-Jährige",
          "jahr": 2010,
          "kind_1": 1950,
          "kind_2": 84,
          "kind_3": 5,
          "kind_4": 0
         },
         {
          "alter": "18-Jährige",
          "jahr": 2010,
          "kind_1": 3559,
          "kind_2": 275,
          "kind_3": 14,
          "kind_4": 1
         },
         {
          "alter": "19-Jährige",
          "jahr": 2010,
          "kind_1": 6165,
          "kind_2": 787,
          "kind_3": 51,
          "kind_4": 6
         },
         {
          "alter": "20-Jährige",
          "jahr": 2010,
          "kind_1": 8936,
          "kind_2": 1602,
          "kind_3": 177,
          "kind_4": 26
         },
         {
          "alter": "21-Jährige",
          "jahr": 2010,
          "kind_1": 10694,
          "kind_2": 2688,
          "kind_3": 394,
          "kind_4": 60
         },
         {
          "alter": "22-Jährige",
          "jahr": 2010,
          "kind_1": 12483,
          "kind_2": 4139,
          "kind_3": 743,
          "kind_4": 132
         },
         {
          "alter": "23-Jährige",
          "jahr": 2010,
          "kind_1": 13759,
          "kind_2": 5375,
          "kind_3": 1176,
          "kind_4": 262
         },
         {
          "alter": "24-Jährige",
          "jahr": 2010,
          "kind_1": 15546,
          "kind_2": 6767,
          "kind_3": 1614,
          "kind_4": 403
         },
         {
          "alter": "25-Jährige",
          "jahr": 2010,
          "kind_1": 17646,
          "kind_2": 8083,
          "kind_3": 2115,
          "kind_4": 649
         },
         {
          "alter": "26-Jährige",
          "jahr": 2010,
          "kind_1": 19845,
          "kind_2": 9889,
          "kind_3": 2555,
          "kind_4": 840
         },
         {
          "alter": "27-Jährige",
          "jahr": 2010,
          "kind_1": 21653,
          "kind_2": 11736,
          "kind_3": 3131,
          "kind_4": 1121
         },
         {
          "alter": "28-Jährige",
          "jahr": 2010,
          "kind_1": 23701,
          "kind_2": 14082,
          "kind_3": 3786,
          "kind_4": 1403
         },
         {
          "alter": "29-Jährige",
          "jahr": 2010,
          "kind_1": 24612,
          "kind_2": 15703,
          "kind_3": 4409,
          "kind_4": 1721
         },
         {
          "alter": "30-Jährige",
          "jahr": 2010,
          "kind_1": 24934,
          "kind_2": 17173,
          "kind_3": 4968,
          "kind_4": 2039
         },
         {
          "alter": "31-Jährige",
          "jahr": 2010,
          "kind_1": 23048,
          "kind_2": 17442,
          "kind_3": 5233,
          "kind_4": 2219
         },
         {
          "alter": "32-Jährige",
          "jahr": 2010,
          "kind_1": 20488,
          "kind_2": 17834,
          "kind_3": 5409,
          "kind_4": 2305
         },
         {
          "alter": "33-Jährige",
          "jahr": 2010,
          "kind_1": 18054,
          "kind_2": 17288,
          "kind_3": 5698,
          "kind_4": 2440
         },
         {
          "alter": "34-Jährige",
          "jahr": 2010,
          "kind_1": 15158,
          "kind_2": 16101,
          "kind_3": 5643,
          "kind_4": 2397
         },
         {
          "alter": "35-Jährige",
          "jahr": 2010,
          "kind_1": 12406,
          "kind_2": 13910,
          "kind_3": 5495,
          "kind_4": 2476
         },
         {
          "alter": "36-Jährige",
          "jahr": 2010,
          "kind_1": 10098,
          "kind_2": 11990,
          "kind_3": 5280,
          "kind_4": 2499
         },
         {
          "alter": "37-Jährige",
          "jahr": 2010,
          "kind_1": 7865,
          "kind_2": 9875,
          "kind_3": 4555,
          "kind_4": 2382
         },
         {
          "alter": "38-Jährige",
          "jahr": 2010,
          "kind_1": 6464,
          "kind_2": 8125,
          "kind_3": 4009,
          "kind_4": 2147
         },
         {
          "alter": "39-Jährige",
          "jahr": 2010,
          "kind_1": 5226,
          "kind_2": 6722,
          "kind_3": 3467,
          "kind_4": 1948
         },
         {
          "alter": "40-Jährige",
          "jahr": 2010,
          "kind_1": 3929,
          "kind_2": 4832,
          "kind_3": 2752,
          "kind_4": 1725
         },
         {
          "alter": "41-Jährige",
          "jahr": 2010,
          "kind_1": 2866,
          "kind_2": 3227,
          "kind_3": 1849,
          "kind_4": 1377
         },
         {
          "alter": "42-Jährige",
          "jahr": 2010,
          "kind_1": 1674,
          "kind_2": 1982,
          "kind_3": 1195,
          "kind_4": 986
         },
         {
          "alter": "43-Jährige",
          "jahr": 2010,
          "kind_1": 965,
          "kind_2": 1092,
          "kind_3": 682,
          "kind_4": 628
         },
         {
          "alter": "44-Jährige",
          "jahr": 2010,
          "kind_1": 479,
          "kind_2": 558,
          "kind_3": 364,
          "kind_4": 399
         },
         {
          "alter": "45-Jährige",
          "jahr": 2010,
          "kind_1": 270,
          "kind_2": 289,
          "kind_3": 195,
          "kind_4": 223
         },
         {
          "alter": "46-Jährige",
          "jahr": 2010,
          "kind_1": 109,
          "kind_2": 130,
          "kind_3": 98,
          "kind_4": 107
         },
         {
          "alter": "47-Jährige",
          "jahr": 2010,
          "kind_1": 63,
          "kind_2": 57,
          "kind_3": 39,
          "kind_4": 52
         },
         {
          "alter": "48-Jährige",
          "jahr": 2010,
          "kind_1": 28,
          "kind_2": 27,
          "kind_3": 7,
          "kind_4": 21
         },
         {
          "alter": "49-Jährige",
          "jahr": 2010,
          "kind_1": 23,
          "kind_2": 16,
          "kind_3": 8,
          "kind_4": 15
         },
         {
          "alter": "50 Jahre und mehr",
          "jahr": 2010,
          "kind_1": 32,
          "kind_2": 30,
          "kind_3": 13,
          "kind_4": 16
         },
         {
          "alter": "unter 15 Jahre",
          "jahr": 2011,
          "kind_1": 51,
          "kind_2": 0,
          "kind_3": 1,
          "kind_4": 0
         },
         {
          "alter": "15-Jährige",
          "jahr": 2011,
          "kind_1": 264,
          "kind_2": 3,
          "kind_3": 0,
          "kind_4": 0
         },
         {
          "alter": "16-Jährige",
          "jahr": 2011,
          "kind_1": 781,
          "kind_2": 13,
          "kind_3": 0,
          "kind_4": 0
         },
         {
          "alter": "17-Jährige",
          "jahr": 2011,
          "kind_1": 1754,
          "kind_2": 68,
          "kind_3": 1,
          "kind_4": 0
         },
         {
          "alter": "18-Jährige",
          "jahr": 2011,
          "kind_1": 3169,
          "kind_2": 259,
          "kind_3": 17,
          "kind_4": 2
         },
         {
          "alter": "19-Jährige",
          "jahr": 2011,
          "kind_1": 5651,
          "kind_2": 670,
          "kind_3": 56,
          "kind_4": 5
         },
         {
          "alter": "20-Jährige",
          "jahr": 2011,
          "kind_1": 7736,
          "kind_2": 1361,
          "kind_3": 173,
          "kind_4": 20
         },
         {
          "alter": "21-Jährige",
          "jahr": 2011,
          "kind_1": 10292,
          "kind_2": 2556,
          "kind_3": 324,
          "kind_4": 53
         },
         {
          "alter": "22-Jährige",
          "jahr": 2011,
          "kind_1": 11414,
          "kind_2": 3602,
          "kind_3": 602,
          "kind_4": 111
         },
         {
          "alter": "23-Jährige",
          "jahr": 2011,
          "kind_1": 13218,
          "kind_2": 5026,
          "kind_3": 996,
          "kind_4": 240
         },
         {
          "alter": "24-Jährige",
          "jahr": 2011,
          "kind_1": 15036,
          "kind_2": 6210,
          "kind_3": 1439,
          "kind_4": 432
         },
         {
          "alter": "25-Jährige",
          "jahr": 2011,
          "kind_1": 17544,
          "kind_2": 7750,
          "kind_3": 1921,
          "kind_4": 590
         },
         {
          "alter": "26-Jährige",
          "jahr": 2011,
          "kind_1": 19202,
          "kind_2": 9159,
          "kind_3": 2492,
          "kind_4": 807
         },
         {
          "alter": "27-Jährige",
          "jahr": 2011,
          "kind_1": 21018,
          "kind_2": 10903,
          "kind_3": 2845,
          "kind_4": 1056
         },
         {
          "alter": "28-Jährige",
          "jahr": 2011,
          "kind_1": 22998,
          "kind_2": 13009,
          "kind_3": 3398,
          "kind_4": 1298
         },
         {
          "alter": "29-Jährige",
          "jahr": 2011,
          "kind_1": 24268,
          "kind_2": 15378,
          "kind_3": 4105,
          "kind_4": 1608
         },
         {
          "alter": "30-Jährige",
          "jahr": 2011,
          "kind_1": 24870,
          "kind_2": 16670,
          "kind_3": 4610,
          "kind_4": 1803
         },
         {
          "alter": "31-Jährige",
          "jahr": 2011,
          "kind_1": 24086,
          "kind_2": 18014,
          "kind_3": 5339,
          "kind_4": 2137
         },
         {
          "alter": "32-Jährige",
          "jahr": 2011,
          "kind_1": 21099,
          "kind_2": 17802,
          "kind_3": 5494,
          "kind_4": 2199
         },
         {
          "alter": "33-Jährige",
          "jahr": 2011,
          "kind_1": 17737,
          "kind_2": 17540,
          "kind_3": 5550,
          "kind_4": 2287
         },
         {
          "alter": "34-Jährige",
          "jahr": 2011,
          "kind_1": 15413,
          "kind_2": 16443,
          "kind_3": 5561,
          "kind_4": 2375
         },
         {
          "alter": "35-Jährige",
          "jahr": 2011,
          "kind_1": 12858,
          "kind_2": 14538,
          "kind_3": 5405,
          "kind_4": 2450
         },
         {
          "alter": "36-Jährige",
          "jahr": 2011,
          "kind_1": 10264,
          "kind_2": 12077,
          "kind_3": 5074,
          "kind_4": 2356
         },
         {
          "alter": "37-Jährige",
          "jahr": 2011,
          "kind_1": 8032,
          "kind_2": 10002,
          "kind_3": 4610,
          "kind_4": 2286
         },
         {
          "alter": "38-Jährige",
          "jahr": 2011,
          "kind_1": 5999,
          "kind_2": 7703,
          "kind_3": 3750,
          "kind_4": 2060
         },
         {
          "alter": "39-Jährige",
          "jahr": 2011,
          "kind_1": 4945,
          "kind_2": 6261,
          "kind_3": 3270,
          "kind_4": 1838
         },
         {
          "alter": "40-Jährige",
          "jahr": 2011,
          "kind_1": 3958,
          "kind_2": 4960,
          "kind_3": 2516,
          "kind_4": 1615
         },
         {
          "alter": "41-Jährige",
          "jahr": 2011,
          "kind_1": 2637,
          "kind_2": 3221,
          "kind_3": 1815,
          "kind_4": 1325
         },
         {
          "alter": "42-Jährige",
          "jahr": 2011,
          "kind_1": 1638,
          "kind_2": 1978,
          "kind_3": 1176,
          "kind_4": 910
         },
         {
          "alter": "43-Jährige",
          "jahr": 2011,
          "kind_1": 970,
          "kind_2": 1147,
          "kind_3": 709,
          "kind_4": 626
         },
         {
          "alter": "44-Jährige",
          "jahr": 2011,
          "kind_1": 505,
          "kind_2": 577,
          "kind_3": 386,
          "kind_4": 372
         },
         {
          "alter": "45-Jährige",
          "jahr": 2011,
          "kind_1": 266,
          "kind_2": 265,
          "kind_3": 224,
          "kind_4": 234
         },
         {
          "alter": "46-Jährige",
          "jahr": 2011,
          "kind_1": 119,
          "kind_2": 105,
          "kind_3": 81,
          "kind_4": 121
         },
         {
          "alter": "47-Jährige",
          "jahr": 2011,
          "kind_1": 61,
          "kind_2": 56,
          "kind_3": 29,
          "kind_4": 46
         },
         {
          "alter": "48-Jährige",
          "jahr": 2011,
          "kind_1": 34,
          "kind_2": 24,
          "kind_3": 17,
          "kind_4": 29
         },
         {
          "alter": "49-Jährige",
          "jahr": 2011,
          "kind_1": 20,
          "kind_2": 21,
          "kind_3": 9,
          "kind_4": 14
         },
         {
          "alter": "50 Jahre und mehr",
          "jahr": 2011,
          "kind_1": 45,
          "kind_2": 27,
          "kind_3": 10,
          "kind_4": 25
         },
         {
          "alter": "unter 15 Jahre",
          "jahr": 2012,
          "kind_1": 51,
          "kind_2": 1,
          "kind_3": 0,
          "kind_4": 0
         },
         {
          "alter": "15-Jährige",
          "jahr": 2012,
          "kind_1": 251,
          "kind_2": 2,
          "kind_3": 0,
          "kind_4": 0
         },
         {
          "alter": "16-Jährige",
          "jahr": 2012,
          "kind_1": 780,
          "kind_2": 16,
          "kind_3": 1,
          "kind_4": 0
         },
         {
          "alter": "17-Jährige",
          "jahr": 2012,
          "kind_1": 1753,
          "kind_2": 64,
          "kind_3": 1,
          "kind_4": 0
         },
         {
          "alter": "18-Jährige",
          "jahr": 2012,
          "kind_1": 3024,
          "kind_2": 248,
          "kind_3": 22,
          "kind_4": 0
         },
         {
          "alter": "19-Jährige",
          "jahr": 2012,
          "kind_1": 5230,
          "kind_2": 689,
          "kind_3": 49,
          "kind_4": 5
         },
         {
          "alter": "20-Jährige",
          "jahr": 2012,
          "kind_1": 7604,
          "kind_2": 1405,
          "kind_3": 181,
          "kind_4": 14
         },
         {
          "alter": "21-Jährige",
          "jahr": 2012,
          "kind_1": 9149,
          "kind_2": 2433,
          "kind_3": 343,
          "kind_4": 51
         },
         {
          "alter": "22-Jährige",
          "jahr": 2012,
          "kind_1": 11269,
          "kind_2": 3648,
          "kind_3": 657,
          "kind_4": 123
         },
         {
          "alter": "23-Jährige",
          "jahr": 2012,
          "kind_1": 12679,
          "kind_2": 4824,
          "kind_3": 991,
          "kind_4": 216
         },
         {
          "alter": "24-Jährige",
          "jahr": 2012,
          "kind_1": 15033,
          "kind_2": 6433,
          "kind_3": 1508,
          "kind_4": 389
         },
         {
          "alter": "25-Jährige",
          "jahr": 2012,
          "kind_1": 17471,
          "kind_2": 7725,
          "kind_3": 1858,
          "kind_4": 624
         },
         {
          "alter": "26-Jährige",
          "jahr": 2012,
          "kind_1": 20021,
          "kind_2": 9662,
          "kind_3": 2491,
          "kind_4": 885
         },
         {
          "alter": "27-Jährige",
          "jahr": 2012,
          "kind_1": 21250,
          "kind_2": 11209,
          "kind_3": 2807,
          "kind_4": 1068
         },
         {
          "alter": "28-Jährige",
          "jahr": 2012,
          "kind_1": 22812,
          "kind_2": 13114,
          "kind_3": 3498,
          "kind_4": 1299
         },
         {
          "alter": "29-Jährige",
          "jahr": 2012,
          "kind_1": 23861,
          "kind_2": 14849,
          "kind_3": 3984,
          "kind_4": 1532
         },
         {
          "alter": "30-Jährige",
          "jahr": 2012,
          "kind_1": 25738,
          "kind_2": 17133,
          "kind_3": 4702,
          "kind_4": 1854
         },
         {
          "alter": "31-Jährige",
          "jahr": 2012,
          "kind_1": 24687,
          "kind_2": 18508,
          "kind_3": 5314,
          "kind_4": 2114
         },
         {
          "alter": "32-Jährige",
          "jahr": 2012,
          "kind_1": 22604,
          "kind_2": 19061,
          "kind_3": 5734,
          "kind_4": 2394
         },
         {
          "alter": "33-Jährige",
          "jahr": 2012,
          "kind_1": 18791,
          "kind_2": 18213,
          "kind_3": 5711,
          "kind_4": 2354
         },
         {
          "alter": "34-Jährige",
          "jahr": 2012,
          "kind_1": 15803,
          "kind_2": 17238,
          "kind_3": 5690,
          "kind_4": 2460
         },
         {
          "alter": "35-Jährige",
          "jahr": 2012,
          "kind_1": 13186,
          "kind_2": 15464,
          "kind_3": 5488,
          "kind_4": 2517
         },
         {
          "alter": "36-Jährige",
          "jahr": 2012,
          "kind_1": 10830,
          "kind_2": 13104,
          "kind_3": 5251,
          "kind_4": 2467
         },
         {
          "alter": "37-Jährige",
          "jahr": 2012,
          "kind_1": 7960,
          "kind_2": 10333,
          "kind_3": 4625,
          "kind_4": 2330
         },
         {
          "alter": "38-Jährige",
          "jahr": 2012,
          "kind_1": 6153,
          "kind_2": 8114,
          "kind_3": 4004,
          "kind_4": 2059
         },
         {
          "alter": "39-Jährige",
          "jahr": 2012,
          "kind_1": 4624,
          "kind_2": 6091,
          "kind_3": 3198,
          "kind_4": 1845
         },
         {
          "alter": "40-Jährige",
          "jahr": 2012,
          "kind_1": 3783,
          "kind_2": 4668,
          "kind_3": 2573,
          "kind_4": 1569
         },
         {
          "alter": "41-Jährige",
          "jahr": 2012,
          "kind_1": 2667,
          "kind_2": 3184,
          "kind_3": 1758,
          "kind_4": 1292
         },
         {
          "alter": "42-Jährige",
          "jahr": 2012,
          "kind_1": 1649,
          "kind_2": 1982,
          "kind_3": 1181,
          "kind_4": 949
         },
         {
          "alter": "43-Jährige",
          "jahr": 2012,
          "kind_1": 981,
          "kind_2": 1158,
          "kind_3": 704,
          "kind_4": 630
         },
         {
          "alter": "44-Jährige",
          "jahr": 2012,
          "kind_1": 539,
          "kind_2": 596,
          "kind_3": 387,
          "kind_4": 379
         },
         {
          "alter": "45-Jährige",
          "jahr": 2012,
          "kind_1": 268,
          "kind_2": 285,
          "kind_3": 193,
          "kind_4": 237
         },
         {
          "alter": "46-Jährige",
          "jahr": 2012,
          "kind_1": 143,
          "kind_2": 138,
          "kind_3": 100,
          "kind_4": 129
         },
         {
          "alter": "47-Jährige",
          "jahr": 2012,
          "kind_1": 84,
          "kind_2": 57,
          "kind_3": 32,
          "kind_4": 45
         },
         {
          "alter": "48-Jährige",
          "jahr": 2012,
          "kind_1": 53,
          "kind_2": 41,
          "kind_3": 14,
          "kind_4": 29
         },
         {
          "alter": "49-Jährige",
          "jahr": 2012,
          "kind_1": 32,
          "kind_2": 27,
          "kind_3": 6,
          "kind_4": 6
         },
         {
          "alter": "50 Jahre und mehr",
          "jahr": 2012,
          "kind_1": 33,
          "kind_2": 26,
          "kind_3": 16,
          "kind_4": 17
         },
         {
          "alter": "unter 15 Jahre",
          "jahr": 2013,
          "kind_1": 46,
          "kind_2": 0,
          "kind_3": 0,
          "kind_4": 0
         },
         {
          "alter": "15-Jährige",
          "jahr": 2013,
          "kind_1": 262,
          "kind_2": 3,
          "kind_3": 0,
          "kind_4": 0
         },
         {
          "alter": "16-Jährige",
          "jahr": 2013,
          "kind_1": 760,
          "kind_2": 26,
          "kind_3": 0,
          "kind_4": 0
         },
         {
          "alter": "17-Jährige",
          "jahr": 2013,
          "kind_1": 1644,
          "kind_2": 78,
          "kind_3": 4,
          "kind_4": 0
         },
         {
          "alter": "18-Jährige",
          "jahr": 2013,
          "kind_1": 3104,
          "kind_2": 266,
          "kind_3": 23,
          "kind_4": 1
         },
         {
          "alter": "19-Jährige",
          "jahr": 2013,
          "kind_1": 5024,
          "kind_2": 628,
          "kind_3": 62,
          "kind_4": 2
         },
         {
          "alter": "20-Jährige",
          "jahr": 2013,
          "kind_1": 6859,
          "kind_2": 1350,
          "kind_3": 162,
          "kind_4": 20
         },
         {
          "alter": "21-Jährige",
          "jahr": 2013,
          "kind_1": 8389,
          "kind_2": 2277,
          "kind_3": 369,
          "kind_4": 67
         },
         {
          "alter": "22-Jährige",
          "jahr": 2013,
          "kind_1": 9949,
          "kind_2": 3239,
          "kind_3": 637,
          "kind_4": 108
         },
         {
          "alter": "23-Jährige",
          "jahr": 2013,
          "kind_1": 12560,
          "kind_2": 4799,
          "kind_3": 1051,
          "kind_4": 216
         },
         {
          "alter": "24-Jährige",
          "jahr": 2013,
          "kind_1": 14352,
          "kind_2": 6003,
          "kind_3": 1442,
          "kind_4": 385
         },
         {
          "alter": "25-Jährige",
          "jahr": 2013,
          "kind_1": 17676,
          "kind_2": 7831,
          "kind_3": 1935,
          "kind_4": 605
         },
         {
          "alter": "26-Jährige",
          "jahr": 2013,
          "kind_1": 20411,
          "kind_2": 9465,
          "kind_3": 2304,
          "kind_4": 797
         },
         {
          "alter": "27-Jährige",
          "jahr": 2013,
          "kind_1": 22055,
          "kind_2": 11191,
          "kind_3": 2964,
          "kind_4": 1121
         },
         {
          "alter": "28-Jährige",
          "jahr": 2013,
          "kind_1": 23107,
          "kind_2": 13071,
          "kind_3": 3387,
          "kind_4": 1400
         },
         {
          "alter": "29-Jährige",
          "jahr": 2013,
          "kind_1": 24251,
          "kind_2": 14883,
          "kind_3": 4034,
          "kind_4": 1541
         },
         {
          "alter": "30-Jährige",
          "jahr": 2013,
          "kind_1": 25139,
          "kind_2": 16451,
          "kind_3": 4488,
          "kind_4": 1788
         },
         {
          "alter": "31-Jährige",
          "jahr": 2013,
          "kind_1": 25453,
          "kind_2": 18742,
          "kind_3": 5316,
          "kind_4": 2042
         },
         {
          "alter": "32-Jährige",
          "jahr": 2013,
          "kind_1": 23432,
          "kind_2": 19390,
          "kind_3": 5713,
          "kind_4": 2345
         },
         {
          "alter": "33-Jährige",
          "jahr": 2013,
          "kind_1": 20362,
          "kind_2": 19441,
          "kind_3": 5955,
          "kind_4": 2613
         },
         {
          "alter": "34-Jährige",
          "jahr": 2013,
          "kind_1": 16758,
          "kind_2": 17899,
          "kind_3": 5881,
          "kind_4": 2558
         },
         {
          "alter": "35-Jährige",
          "jahr": 2013,
          "kind_1": 14049,
          "kind_2": 16124,
          "kind_3": 5810,
          "kind_4": 2478
         },
         {
          "alter": "36-Jährige",
          "jahr": 2013,
          "kind_1": 11156,
          "kind_2": 13611,
          "kind_3": 5577,
          "kind_4": 2449
         },
         {
          "alter": "37-Jährige",
          "jahr": 2013,
          "kind_1": 8702,
          "kind_2": 11144,
          "kind_3": 4871,
          "kind_4": 2317
         },
         {
          "alter": "38-Jährige",
          "jahr": 2013,
          "kind_1": 6484,
          "kind_2": 8523,
          "kind_3": 4056,
          "kind_4": 2096
         },
         {
          "alter": "39-Jährige",
          "jahr": 2013,
          "kind_1": 4961,
          "kind_2": 6352,
          "kind_3": 3275,
          "kind_4": 1869
         },
         {
          "alter": "40-Jährige",
          "jahr": 2013,
          "kind_1": 3720,
          "kind_2": 4536,
          "kind_3": 2458,
          "kind_4": 1557
         },
         {
          "alter": "41-Jährige",
          "jahr": 2013,
          "kind_1": 2579,
          "kind_2": 3175,
          "kind_3": 1737,
          "kind_4": 1176
         },
         {
          "alter": "42-Jährige",
          "jahr": 2013,
          "kind_1": 1661,
          "kind_2": 2071,
          "kind_3": 1159,
          "kind_4": 893
         },
         {
          "alter": "43-Jährige",
          "jahr": 2013,
          "kind_1": 1031,
          "kind_2": 1173,
          "kind_3": 644,
          "kind_4": 601
         },
         {
          "alter": "44-Jährige",
          "jahr": 2013,
          "kind_1": 571,
          "kind_2": 599,
          "kind_3": 408,
          "kind_4": 394
         },
         {
          "alter": "45-Jährige",
          "jahr": 2013,
          "kind_1": 314,
          "kind_2": 292,
          "kind_3": 191,
          "kind_4": 201
         },
         {
          "alter": "46-Jährige",
          "jahr": 2013,
          "kind_1": 148,
          "kind_2": 145,
          "kind_3": 101,
          "kind_4": 93
         },
         {
          "alter": "47-Jährige",
          "jahr": 2013,
          "kind_1": 89,
          "kind_2": 78,
          "kind_3": 43,
          "kind_4": 66
         },
         {
          "alter": "48-Jährige",
          "jahr": 2013,
          "kind_1": 45,
          "kind_2": 27,
          "kind_3": 18,
          "kind_4": 19
         },
         {
          "alter": "49-Jährige",
          "jahr": 2013,
          "kind_1": 29,
          "kind_2": 18,
          "kind_3": 13,
          "kind_4": 13
         },
         {
          "alter": "50 Jahre und mehr",
          "jahr": 2013,
          "kind_1": 43,
          "kind_2": 28,
          "kind_3": 21,
          "kind_4": 25
         },
         {
          "alter": "unter 15 Jahre",
          "jahr": 2014,
          "kind_1": 65,
          "kind_2": 1,
          "kind_3": 0,
          "kind_4": 0
         },
         {
          "alter": "15-Jährige",
          "jahr": 2014,
          "kind_1": 275,
          "kind_2": 3,
          "kind_3": 0,
          "kind_4": 0
         },
         {
          "alter": "16-Jährige",
          "jahr": 2014,
          "kind_1": 794,
          "kind_2": 17,
          "kind_3": 1,
          "kind_4": 0
         },
         {
          "alter": "17-Jährige",
          "jahr": 2014,
          "kind_1": 1827,
          "kind_2": 83,
          "kind_3": 5,
          "kind_4": 0
         },
         {
          "alter": "18-Jährige",
          "jahr": 2014,
          "kind_1": 3042,
          "kind_2": 304,
          "kind_3": 25,
          "kind_4": 0
         },
         {
          "alter": "19-Jährige",
          "jahr": 2014,
          "kind_1": 4880,
          "kind_2": 703,
          "kind_3": 56,
          "kind_4": 8
         },
         {
          "alter": "20-Jährige",
          "jahr": 2014,
          "kind_1": 6693,
          "kind_2": 1290,
          "kind_3": 198,
          "kind_4": 20
         },
         {
          "alter": "21-Jährige",
          "jahr": 2014,
          "kind_1": 7952,
          "kind_2": 2327,
          "kind_3": 372,
          "kind_4": 73
         },
         {
          "alter": "22-Jährige",
          "jahr": 2014,
          "kind_1": 9565,
          "kind_2": 3342,
          "kind_3": 633,
          "kind_4": 147
         },
         {
          "alter": "23-Jährige",
          "jahr": 2014,
          "kind_1": 11349,
          "kind_2": 4549,
          "kind_3": 984,
          "kind_4": 248
         },
         {
          "alter": "24-Jährige",
          "jahr": 2014,
          "kind_1": 14680,
          "kind_2": 6144,
          "kind_3": 1519,
          "kind_4": 434
         },
         {
          "alter": "25-Jährige",
          "jahr": 2014,
          "kind_1": 17639,
          "kind_2": 7569,
          "kind_3": 1897,
          "kind_4": 587
         },
         {
          "alter": "26-Jährige",
          "jahr": 2014,
          "kind_1": 21278,
          "kind_2": 9669,
          "kind_3": 2573,
          "kind_4": 863
         },
         {
          "alter": "27-Jährige",
          "jahr": 2014,
          "kind_1": 23253,
          "kind_2": 11493,
          "kind_3": 2982,
          "kind_4": 1172
         },
         {
          "alter": "28-Jährige",
          "jahr": 2014,
          "kind_1": 25181,
          "kind_2": 13484,
          "kind_3": 3716,
          "kind_4": 1414
         },
         {
          "alter": "29-Jährige",
          "jahr": 2014,
          "kind_1": 25949,
          "kind_2": 15340,
          "kind_3": 4181,
          "kind_4": 1668
         },
         {
          "alter": "30-Jährige",
          "jahr": 2014,
          "kind_1": 26843,
          "kind_2": 17011,
          "kind_3": 4735,
          "kind_4": 2028
         },
         {
          "alter": "31-Jährige",
          "jahr": 2014,
          "kind_1": 26725,
          "kind_2": 18730,
          "kind_3": 5358,
          "kind_4": 2092
         },
         {
          "alter": "32-Jährige",
          "jahr": 2014,
          "kind_1": 25083,
          "kind_2": 20436,
          "kind_3": 6121,
          "kind_4": 2434
         },
         {
          "alter": "33-Jährige",
          "jahr": 2014,
          "kind_1": 22046,
          "kind_2": 20272,
          "kind_3": 6401,
          "kind_4": 2608
         },
         {
          "alter": "34-Jährige",
          "jahr": 2014,
          "kind_1": 18810,
          "kind_2": 19625,
          "kind_3": 6530,
          "kind_4": 2742
         },
         {
          "alter": "35-Jährige",
          "jahr": 2014,
          "kind_1": 15138,
          "kind_2": 17180,
          "kind_3": 6206,
          "kind_4": 2762
         },
         {
          "alter": "36-Jährige",
          "jahr": 2014,
          "kind_1": 12283,
          "kind_2": 14374,
          "kind_3": 5842,
          "kind_4": 2700
         },
         {
          "alter": "37-Jährige",
          "jahr": 2014,
          "kind_1": 9439,
          "kind_2": 11822,
          "kind_3": 5141,
          "kind_4": 2600
         },
         {
          "alter": "38-Jährige",
          "jahr": 2014,
          "kind_1": 7145,
          "kind_2": 9387,
          "kind_3": 4350,
          "kind_4": 2231
         },
         {
          "alter": "39-Jährige",
          "jahr": 2014,
          "kind_1": 5320,
          "kind_2": 6819,
          "kind_3": 3448,
          "kind_4": 2035
         },
         {
          "alter": "40-Jährige",
          "jahr": 2014,
          "kind_1": 4004,
          "kind_2": 4949,
          "kind_3": 2562,
          "kind_4": 1661
         },
         {
          "alter": "41-Jährige",
          "jahr": 2014,
          "kind_1": 2576,
          "kind_2": 3116,
          "kind_3": 1776,
          "kind_4": 1303
         },
         {
          "alter": "42-Jährige",
          "jahr": 2014,
          "kind_1": 1724,
          "kind_2": 2046,
          "kind_3": 1233,
          "kind_4": 899
         },
         {
          "alter": "43-Jährige",
          "jahr": 2014,
          "kind_1": 1092,
          "kind_2": 1221,
          "kind_3": 710,
          "kind_4": 626
         },
         {
          "alter": "44-Jährige",
          "jahr": 2014,
          "kind_1": 528,
          "kind_2": 618,
          "kind_3": 387,
          "kind_4": 402
         },
         {
          "alter": "45-Jährige",
          "jahr": 2014,
          "kind_1": 321,
          "kind_2": 293,
          "kind_3": 188,
          "kind_4": 197
         },
         {
          "alter": "46-Jährige",
          "jahr": 2014,
          "kind_1": 193,
          "kind_2": 150,
          "kind_3": 101,
          "kind_4": 101
         },
         {
          "alter": "47-Jährige",
          "jahr": 2014,
          "kind_1": 85,
          "kind_2": 74,
          "kind_3": 47,
          "kind_4": 44
         },
         {
          "alter": "48-Jährige",
          "jahr": 2014,
          "kind_1": 57,
          "kind_2": 44,
          "kind_3": 22,
          "kind_4": 25
         },
         {
          "alter": "49-Jährige",
          "jahr": 2014,
          "kind_1": 29,
          "kind_2": 16,
          "kind_3": 11,
          "kind_4": 10
         },
         {
          "alter": "50 Jahre und mehr",
          "jahr": 2014,
          "kind_1": 47,
          "kind_2": 37,
          "kind_3": 16,
          "kind_4": 18
         },
         {
          "alter": "unter 15 Jahre",
          "jahr": 2015,
          "kind_1": 68,
          "kind_2": 2,
          "kind_3": 0,
          "kind_4": 0
         },
         {
          "alter": "15-Jährige",
          "jahr": 2015,
          "kind_1": 299,
          "kind_2": 5,
          "kind_3": 1,
          "kind_4": 0
         },
         {
          "alter": "16-Jährige",
          "jahr": 2015,
          "kind_1": 807,
          "kind_2": 23,
          "kind_3": 1,
          "kind_4": 0
         },
         {
          "alter": "17-Jährige",
          "jahr": 2015,
          "kind_1": 1726,
          "kind_2": 103,
          "kind_3": 5,
          "kind_4": 1
         },
         {
          "alter": "18-Jährige",
          "jahr": 2015,
          "kind_1": 3039,
          "kind_2": 339,
          "kind_3": 30,
          "kind_4": 3
         },
         {
          "alter": "19-Jährige",
          "jahr": 2015,
          "kind_1": 4958,
          "kind_2": 828,
          "kind_3": 91,
          "kind_4": 4
         },
         {
          "alter": "20-Jährige",
          "jahr": 2015,
          "kind_1": 6637,
          "kind_2": 1505,
          "kind_3": 206,
          "kind_4": 27
         },
         {
          "alter": "21-Jährige",
          "jahr": 2015,
          "kind_1": 7915,
          "kind_2": 2440,
          "kind_3": 392,
          "kind_4": 70
         },
         {
          "alter": "22-Jährige",
          "jahr": 2015,
          "kind_1": 9274,
          "kind_2": 3514,
          "kind_3": 696,
          "kind_4": 139
         },
         {
          "alter": "23-Jährige",
          "jahr": 2015,
          "kind_1": 10968,
          "kind_2": 4579,
          "kind_3": 1086,
          "kind_4": 256
         },
         {
          "alter": "24-Jährige",
          "jahr": 2015,
          "kind_1": 13388,
          "kind_2": 5845,
          "kind_3": 1548,
          "kind_4": 492
         },
         {
          "alter": "25-Jährige",
          "jahr": 2015,
          "kind_1": 18076,
          "kind_2": 7676,
          "kind_3": 1992,
          "kind_4": 693
         },
         {
          "alter": "26-Jährige",
          "jahr": 2015,
          "kind_1": 20971,
          "kind_2": 9752,
          "kind_3": 2551,
          "kind_4": 942
         },
         {
          "alter": "27-Jährige",
          "jahr": 2015,
          "kind_1": 24169,
          "kind_2": 12011,
          "kind_3": 3311,
          "kind_4": 1229
         },
         {
          "alter": "28-Jährige",
          "jahr": 2015,
          "kind_1": 26204,
          "kind_2": 14214,
          "kind_3": 3850,
          "kind_4": 1503
         },
         {
          "alter": "29-Jährige",
          "jahr": 2015,
          "kind_1": 27708,
          "kind_2": 16151,
          "kind_3": 4422,
          "kind_4": 1810
         },
         {
          "alter": "30-Jährige",
          "jahr": 2015,
          "kind_1": 27543,
          "kind_2": 17581,
          "kind_3": 5015,
          "kind_4": 2105
         },
         {
          "alter": "31-Jährige",
          "jahr": 2015,
          "kind_1": 27186,
          "kind_2": 19097,
          "kind_3": 5512,
          "kind_4": 2446
         },
         {
          "alter": "32-Jährige",
          "jahr": 2015,
          "kind_1": 25351,
          "kind_2": 20414,
          "kind_3": 5928,
          "kind_4": 2471
         },
         {
          "alter": "33-Jährige",
          "jahr": 2015,
          "kind_1": 22701,
          "kind_2": 21402,
          "kind_3": 6714,
          "kind_4": 2810
         },
         {
          "alter": "34-Jährige",
          "jahr": 2015,
          "kind_1": 19390,
          "kind_2": 20385,
          "kind_3": 6728,
          "kind_4": 2906
         },
         {
          "alter": "35-Jährige",
          "jahr": 2015,
          "kind_1": 16411,
          "kind_2": 18734,
          "kind_3": 6769,
          "kind_4": 2990
         },
         {
          "alter": "36-Jährige",
          "jahr": 2015,
          "kind_1": 12756,
          "kind_2": 15434,
          "kind_3": 6341,
          "kind_4": 2849
         },
         {
          "alter": "37-Jährige",
          "jahr": 2015,
          "kind_1": 9638,
          "kind_2": 12378,
          "kind_3": 5388,
          "kind_4": 2734
         },
         {
          "alter": "38-Jährige",
          "jahr": 2015,
          "kind_1": 7472,
          "kind_2": 9452,
          "kind_3": 4687,
          "kind_4": 2394
         },
         {
          "alter": "39-Jährige",
          "jahr": 2015,
          "kind_1": 5605,
          "kind_2": 7306,
          "kind_3": 3658,
          "kind_4": 2058
         },
         {
          "alter": "40-Jährige",
          "jahr": 2015,
          "kind_1": 4109,
          "kind_2": 5123,
          "kind_3": 2707,
          "kind_4": 1753
         },
         {
          "alter": "41-Jährige",
          "jahr": 2015,
          "kind_1": 2811,
          "kind_2": 3398,
          "kind_3": 1849,
          "kind_4": 1375
         },
         {
          "alter": "42-Jährige",
          "jahr": 2015,
          "kind_1": 1580,
          "kind_2": 1927,
          "kind_3": 1119,
          "kind_4": 921
         },
         {
          "alter": "43-Jährige",
          "jahr": 2015,
          "kind_1": 988,
          "kind_2": 1104,
          "kind_3": 658,
          "kind_4": 594
         },
         {
          "alter": "44-Jährige",
          "jahr": 2015,
          "kind_1": 607,
          "kind_2": 635,
          "kind_3": 419,
          "kind_4": 346
         },
         {
          "alter": "45-Jährige",
          "jahr": 2015,
          "kind_1": 342,
          "kind_2": 304,
          "kind_3": 200,
          "kind_4": 228
         },
         {
          "alter": "46-Jährige",
          "jahr": 2015,
          "kind_1": 177,
          "kind_2": 168,
          "kind_3": 88,
          "kind_4": 108
         },
         {
          "alter": "47-Jährige",
          "jahr": 2015,
          "kind_1": 108,
          "kind_2": 89,
          "kind_3": 32,
          "kind_4": 57
         },
         {
          "alter": "48-Jährige",
          "jahr": 2015,
          "kind_1": 65,
          "kind_2": 30,
          "kind_3": 18,
          "kind_4": 25
         },
         {
          "alter": "49-Jährige",
          "jahr": 2015,
          "kind_1": 40,
          "kind_2": 22,
          "kind_3": 12,
          "kind_4": 21
         },
         {
          "alter": "50 Jahre und mehr",
          "jahr": 2015,
          "kind_1": 67,
          "kind_2": 31,
          "kind_3": 12,
          "kind_4": 24
         },
         {
          "alter": "unter 15 Jahre",
          "jahr": 2016,
          "kind_1": 76,
          "kind_2": 1,
          "kind_3": 0,
          "kind_4": 0
         },
         {
          "alter": "15-Jährige",
          "jahr": 2016,
          "kind_1": 313,
          "kind_2": 3,
          "kind_3": 0,
          "kind_4": 0
         },
         {
          "alter": "16-Jährige",
          "jahr": 2016,
          "kind_1": 914,
          "kind_2": 34,
          "kind_3": 1,
          "kind_4": 0
         },
         {
          "alter": "17-Jährige",
          "jahr": 2016,
          "kind_1": 1912,
          "kind_2": 153,
          "kind_3": 8,
          "kind_4": 0
         },
         {
          "alter": "18-Jährige",
          "jahr": 2016,
          "kind_1": 3422,
          "kind_2": 436,
          "kind_3": 51,
          "kind_4": 3
         },
         {
          "alter": "19-Jährige",
          "jahr": 2016,
          "kind_1": 5821,
          "kind_2": 1116,
          "kind_3": 147,
          "kind_4": 18
         },
         {
          "alter": "20-Jährige",
          "jahr": 2016,
          "kind_1": 7522,
          "kind_2": 1838,
          "kind_3": 312,
          "kind_4": 47
         },
         {
          "alter": "21-Jährige",
          "jahr": 2016,
          "kind_1": 8804,
          "kind_2": 2962,
          "kind_3": 568,
          "kind_4": 104
         },
         {
          "alter": "22-Jährige",
          "jahr": 2016,
          "kind_1": 10022,
          "kind_2": 3983,
          "kind_3": 893,
          "kind_4": 200
         },
         {
          "alter": "23-Jährige",
          "jahr": 2016,
          "kind_1": 11230,
          "kind_2": 5071,
          "kind_3": 1305,
          "kind_4": 373
         },
         {
          "alter": "24-Jährige",
          "jahr": 2016,
          "kind_1": 13678,
          "kind_2": 6232,
          "kind_3": 1813,
          "kind_4": 585
         },
         {
          "alter": "25-Jährige",
          "jahr": 2016,
          "kind_1": 16454,
          "kind_2": 7960,
          "kind_3": 2377,
          "kind_4": 790
         },
         {
          "alter": "26-Jährige",
          "jahr": 2016,
          "kind_1": 21958,
          "kind_2": 10290,
          "kind_3": 2991,
          "kind_4": 1213
         },
         {
          "alter": "27-Jährige",
          "jahr": 2016,
          "kind_1": 24849,
          "kind_2": 12386,
          "kind_3": 3661,
          "kind_4": 1497
         },
         {
          "alter": "28-Jährige",
          "jahr": 2016,
          "kind_1": 28002,
          "kind_2": 15190,
          "kind_3": 4385,
          "kind_4": 1888
         },
         {
          "alter": "29-Jährige",
          "jahr": 2016,
          "kind_1": 29311,
          "kind_2": 17407,
          "kind_3": 4990,
          "kind_4": 2192
         },
         {
          "alter": "30-Jährige",
          "jahr": 2016,
          "kind_1": 29823,
          "kind_2": 19263,
          "kind_3": 5561,
          "kind_4": 2474
         },
         {
          "alter": "31-Jährige",
          "jahr": 2016,
          "kind_1": 28597,
          "kind_2": 20601,
          "kind_3": 6085,
          "kind_4": 2874
         },
         {
          "alter": "32-Jährige",
          "jahr": 2016,
          "kind_1": 26354,
          "kind_2": 21690,
          "kind_3": 6401,
          "kind_4": 2952
         },
         {
          "alter": "33-Jährige",
          "jahr": 2016,
          "kind_1": 23019,
          "kind_2": 22249,
          "kind_3": 6769,
          "kind_4": 3173
         },
         {
          "alter": "34-Jährige",
          "jahr": 2016,
          "kind_1": 20379,
          "kind_2": 21771,
          "kind_3": 7275,
          "kind_4": 3333
         },
         {
          "alter": "35-Jährige",
          "jahr": 2016,
          "kind_1": 17289,
          "kind_2": 19826,
          "kind_3": 7294,
          "kind_4": 3454
         },
         {
          "alter": "36-Jährige",
          "jahr": 2016,
          "kind_1": 14320,
          "kind_2": 17206,
          "kind_3": 7200,
          "kind_4": 3414
         },
         {
          "alter": "37-Jährige",
          "jahr": 2016,
          "kind_1": 10440,
          "kind_2": 13665,
          "kind_3": 6146,
          "kind_4": 3094
         },
         {
          "alter": "38-Jährige",
          "jahr": 2016,
          "kind_1": 7893,
          "kind_2": 10542,
          "kind_3": 4961,
          "kind_4": 2767
         },
         {
          "alter": "39-Jährige",
          "jahr": 2016,
          "kind_1": 6040,
          "kind_2": 7873,
          "kind_3": 4034,
          "kind_4": 2519
         },
         {
          "alter": "40-Jährige",
          "jahr": 2016,
          "kind_1": 4445,
          "kind_2": 5673,
          "kind_3": 3058,
          "kind_4": 1962
         },
         {
          "alter": "41-Jährige",
          "jahr": 2016,
          "kind_1": 2909,
          "kind_2": 3514,
          "kind_3": 1996,
          "kind_4": 1511
         },
         {
          "alter": "42-Jährige",
          "jahr": 2016,
          "kind_1": 1753,
          "kind_2": 2197,
          "kind_3": 1271,
          "kind_4": 1042
         },
         {
          "alter": "43-Jährige",
          "jahr": 2016,
          "kind_1": 1049,
          "kind_2": 1260,
          "kind_3": 714,
          "kind_4": 647
         },
         {
          "alter": "44-Jährige",
          "jahr": 2016,
          "kind_1": 574,
          "kind_2": 689,
          "kind_3": 387,
          "kind_4": 418
         },
         {
          "alter": "45-Jährige",
          "jahr": 2016,
          "kind_1": 358,
          "kind_2": 317,
          "kind_3": 202,
          "kind_4": 213
         },
         {
          "alter": "46-Jährige",
          "jahr": 2016,
          "kind_1": 196,
          "kind_2": 189,
          "kind_3": 118,
          "kind_4": 137
         },
         {
          "alter": "47-Jährige",
          "jahr": 2016,
          "kind_1": 135,
          "kind_2": 79,
          "kind_3": 38,
          "kind_4": 59
         },
         {
          "alter": "48-Jährige",
          "jahr": 2016,
          "kind_1": 74,
          "kind_2": 60,
          "kind_3": 26,
          "kind_4": 20
         },
         {
          "alter": "49-Jährige",
          "jahr": 2016,
          "kind_1": 52,
          "kind_2": 31,
          "kind_3": 15,
          "kind_4": 10
         },
         {
          "alter": "50 Jahre und mehr",
          "jahr": 2016,
          "kind_1": 80,
          "kind_2": 47,
          "kind_3": 30,
          "kind_4": 36
         },
         {
          "alter": "unter 15 Jahre",
          "jahr": 2017,
          "kind_1": 56,
          "kind_2": 0,
          "kind_3": 0,
          "kind_4": 0
         },
         {
          "alter": "15-Jährige",
          "jahr": 2017,
          "kind_1": 249,
          "kind_2": 3,
          "kind_3": 0,
          "kind_4": 0
         },
         {
          "alter": "16-Jährige",
          "jahr": 2017,
          "kind_1": 745,
          "kind_2": 40,
          "kind_3": 2,
          "kind_4": 0
         },
         {
          "alter": "17-Jährige",
          "jahr": 2017,
          "kind_1": 1619,
          "kind_2": 120,
          "kind_3": 7,
          "kind_4": 1
         },
         {
          "alter": "18-Jährige",
          "jahr": 2017,
          "kind_1": 2865,
          "kind_2": 433,
          "kind_3": 40,
          "kind_4": 4
         },
         {
          "alter": "19-Jährige",
          "jahr": 2017,
          "kind_1": 4910,
          "kind_2": 1009,
          "kind_3": 134,
          "kind_4": 12
         },
         {
          "alter": "20-Jährige",
          "jahr": 2017,
          "kind_1": 6646,
          "kind_2": 1835,
          "kind_3": 271,
          "kind_4": 45
         },
         {
          "alter": "21-Jährige",
          "jahr": 2017,
          "kind_1": 8023,
          "kind_2": 2949,
          "kind_3": 561,
          "kind_4": 93
         },
         {
          "alter": "22-Jährige",
          "jahr": 2017,
          "kind_1": 8975,
          "kind_2": 3902,
          "kind_3": 932,
          "kind_4": 187
         },
         {
          "alter": "23-Jährige",
          "jahr": 2017,
          "kind_1": 10500,
          "kind_2": 4682,
          "kind_3": 1316,
          "kind_4": 385
         },
         {
          "alter": "24-Jährige",
          "jahr": 2017,
          "kind_1": 12497,
          "kind_2": 5968,
          "kind_3": 1803,
          "kind_4": 563
         },
         {
          "alter": "25-Jährige",
          "jahr": 2017,
          "kind_1": 15764,
          "kind_2": 7510,
          "kind_3": 2137,
          "kind_4": 830
         },
         {
          "alter": "26-Jährige",
          "jahr": 2017,
          "kind_1": 19260,
          "kind_2": 9415,
          "kind_3": 2923,
          "kind_4": 1140
         },
         {
          "alter": "27-Jährige",
          "jahr": 2017,
          "kind_1": 24703,
          "kind_2": 12326,
          "kind_3": 3625,
          "kind_4": 1495
         },
         {
          "alter": "28-Jährige",
          "jahr": 2017,
          "kind_1": 26896,
          "kind_2": 14718,
          "kind_3": 4117,
          "kind_4": 1727
         },
         {
          "alter": "29-Jährige",
          "jahr": 2017,
          "kind_1": 29932,
          "kind_2": 17511,
          "kind_3": 5126,
          "kind_4": 2274
         },
         {
          "alter": "30-Jährige",
          "jahr": 2017,
          "kind_1": 30111,
          "kind_2": 19841,
          "kind_3": 5674,
          "kind_4": 2514
         },
         {
          "alter": "31-Jährige",
          "jahr": 2017,
          "kind_1": 29593,
          "kind_2": 21418,
          "kind_3": 6302,
          "kind_4": 2851
         },
         {
          "alter": "32-Jährige",
          "jahr": 2017,
          "kind_1": 26293,
          "kind_2": 21941,
          "kind_3": 6743,
          "kind_4": 3147
         },
         {
          "alter": "33-Jährige",
          "jahr": 2017,
          "kind_1": 22994,
          "kind_2": 22216,
          "kind_3": 7171,
          "kind_4": 3157
         },
         {
          "alter": "34-Jährige",
          "jahr": 2017,
          "kind_1": 19661,
          "kind_2": 21333,
          "kind_3": 7257,
          "kind_4": 3237
         },
         {
          "alter": "35-Jährige",
          "jahr": 2017,
          "kind_1": 16829,
          "kind_2": 20017,
          "kind_3": 7495,
          "kind_4": 3505
         },
         {
          "alter": "36-Jährige",
          "jahr": 2017,
          "kind_1": 13969,
          "kind_2": 17592,
          "kind_3": 7164,
          "kind_4": 3497
         },
         {
          "alter": "37-Jährige",
          "jahr": 2017,
          "kind_1": 10935,
          "kind_2": 14488,
          "kind_3": 6351,
          "kind_4": 3416
         },
         {
          "alter": "38-Jährige",
          "jahr": 2017,
          "kind_1": 7893,
          "kind_2": 10874,
          "kind_3": 5262,
          "kind_4": 2926
         },
         {
          "alter": "39-Jährige",
          "jahr": 2017,
          "kind_1": 6041,
          "kind_2": 8072,
          "kind_3": 4214,
          "kind_4": 2548
         },
         {
          "alter": "40-Jährige",
          "jahr": 2017,
          "kind_1": 4491,
          "kind_2": 5878,
          "kind_3": 3073,
          "kind_4": 2136
         },
         {
          "alter": "41-Jährige",
          "jahr": 2017,
          "kind_1": 2903,
          "kind_2": 3780,
          "kind_3": 2071,
          "kind_4": 1541
         },
         {
          "alter": "42-Jährige",
          "jahr": 2017,
          "kind_1": 1770,
          "kind_2": 2183,
          "kind_3": 1311,
          "kind_4": 1044
         },
         {
          "alter": "43-Jährige",
          "jahr": 2017,
          "kind_1": 1032,
          "kind_2": 1230,
          "kind_3": 761,
          "kind_4": 732
         },
         {
          "alter": "44-Jährige",
          "jahr": 2017,
          "kind_1": 564,
          "kind_2": 608,
          "kind_3": 380,
          "kind_4": 418
         },
         {
          "alter": "45-Jährige",
          "jahr": 2017,
          "kind_1": 373,
          "kind_2": 357,
          "kind_3": 237,
          "kind_4": 215
         },
         {
          "alter": "46-Jährige",
          "jahr": 2017,
          "kind_1": 217,
          "kind_2": 175,
          "kind_3": 93,
          "kind_4": 116
         },
         {
          "alter": "47-Jährige",
          "jahr": 2017,
          "kind_1": 114,
          "kind_2": 85,
          "kind_3": 67,
          "kind_4": 43
         },
         {
          "alter": "48-Jährige",
          "jahr": 2017,
          "kind_1": 61,
          "kind_2": 48,
          "kind_3": 27,
          "kind_4": 20
         },
         {
          "alter": "49-Jährige",
          "jahr": 2017,
          "kind_1": 42,
          "kind_2": 27,
          "kind_3": 14,
          "kind_4": 15
         },
         {
          "alter": "50 Jahre und mehr",
          "jahr": 2017,
          "kind_1": 87,
          "kind_2": 46,
          "kind_3": 23,
          "kind_4": 29
         }
        ]
       },
       "layer": [
        {
         "encoding": {
          "color": {
           "field": "jahr",
           "type": "ordinal"
          },
          "x": {
           "field": "alter",
           "type": "ordinal"
          },
          "y": {
           "field": "kind_1",
           "scale": {
            "domain": [
             0,
             35000
            ]
           },
           "type": "quantitative"
          }
         },
         "mark": "line",
         "width": 500
        },
        {
         "encoding": {
          "x": {
           "aggregate": "median",
           "field": "alter",
           "type": "ordinal"
          }
         },
         "mark": {
          "color": "red",
          "type": "rule"
         }
        }
       ]
      },
      "image/png": "[encoded data removed]",
      "text/plain": [
       "<VegaLite 3 object>\n",
       "\n",
       "If you see this message, it means the renderer has not been properly enabled\n",
       "for the frontend that you are using. For more information, see\n",
       "https://altair-viz.github.io/user_guide/troubleshooting.html\n"
      ]
     },
     "execution_count": 35,
     "metadata": {},
     "output_type": "execute_result"
    }
   ],
   "source": [
    "(A+rule)"
   ]
  },
  {
   "cell_type": "code",
   "execution_count": null,
   "metadata": {},
   "outputs": [],
   "source": []
  }
 ],
 "metadata": {
  "kernelspec": {
   "display_name": "Python 3",
   "language": "python",
   "name": "python3"
  },
  "language_info": {
   "codemirror_mode": {
    "name": "ipython",
    "version": 3
   },
   "file_extension": ".py",
   "mimetype": "text/x-python",
   "name": "python",
   "nbconvert_exporter": "python",
   "pygments_lexer": "ipython3",
   "version": "3.7.3"
  }
 },
 "nbformat": 4,
 "nbformat_minor": 4
}
